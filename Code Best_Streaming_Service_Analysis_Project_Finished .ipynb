{
  "cells": [
    {
      "cell_type": "code",
      "execution_count": null,
      "metadata": {
        "id": "56f29bd8",
        "collapsed": true
      },
      "outputs": [],
      "source": [
        "import pandas as pd\n",
        "import numpy as np\n",
        "import seaborn as sns\n",
        "import matplotlib.pyplot as plt\n",
        "import plotly.offline as pyo\n",
        "pyo.init_notebook_mode()\n",
        "import plotly.express as px\n"
      ],
      "id": "56f29bd8"
    },
    {
      "cell_type": "code",
      "execution_count": null,
      "metadata": {
        "id": "ef6584dc"
      },
      "outputs": [],
      "source": [
        "data=pd.read_csv(\"MoviesOnStreamingPlatforms_updated.csv\")"
      ],
      "id": "ef6584dc"
    },
    {
      "cell_type": "code",
      "execution_count": null,
      "metadata": {
        "id": "25da7e93"
      },
      "outputs": [],
      "source": [
        "data.head()"
      ],
      "id": "25da7e93"
    },
    {
      "cell_type": "markdown",
      "metadata": {
        "id": "3a1a4d43"
      },
      "source": [
        "Here 16744 represents Number of Samples and\n",
        "16 represents Total Number of Features taken"
      ],
      "id": "3a1a4d43"
    },
    {
      "cell_type": "code",
      "execution_count": null,
      "metadata": {
        "id": "991fa011"
      },
      "outputs": [],
      "source": [
        "data.shape"
      ],
      "id": "991fa011"
    },
    {
      "cell_type": "code",
      "execution_count": null,
      "metadata": {
        "id": "90a9fe96"
      },
      "outputs": [],
      "source": [
        "data.columns"
      ],
      "id": "90a9fe96"
    },
    {
      "cell_type": "code",
      "execution_count": null,
      "metadata": {
        "id": "0b6cb8bb"
      },
      "outputs": [],
      "source": [
        "cols=data.columns.tolist()\n"
      ],
      "id": "0b6cb8bb"
    },
    {
      "cell_type": "code",
      "execution_count": null,
      "metadata": {
        "id": "c4decf17"
      },
      "outputs": [],
      "source": [
        "cols"
      ],
      "id": "c4decf17"
    },
    {
      "cell_type": "markdown",
      "metadata": {
        "id": "739d0da3"
      },
      "source": [
        "# CHECKING MISSING VALUES"
      ],
      "id": "739d0da3"
    },
    {
      "cell_type": "markdown",
      "metadata": {
        "id": "8bbf785b"
      },
      "source": [
        "Python Recognizes Missing values as NaN"
      ],
      "id": "8bbf785b"
    },
    {
      "cell_type": "code",
      "execution_count": null,
      "metadata": {
        "id": "1f8e6524"
      },
      "outputs": [],
      "source": [
        "data.isna()"
      ],
      "id": "1f8e6524"
    },
    {
      "cell_type": "code",
      "execution_count": null,
      "metadata": {
        "id": "76c2623e"
      },
      "outputs": [],
      "source": [
        "data.isna().sum()"
      ],
      "id": "76c2623e"
    },
    {
      "cell_type": "markdown",
      "metadata": {
        "id": "44861529"
      },
      "source": [
        "Let's Remove \"+\" sign attached to AGE column"
      ],
      "id": "44861529"
    },
    {
      "cell_type": "code",
      "execution_count": null,
      "metadata": {
        "id": "123620af"
      },
      "outputs": [],
      "source": [
        "data.dtypes"
      ],
      "id": "123620af"
    },
    {
      "cell_type": "code",
      "execution_count": null,
      "metadata": {
        "id": "399b30f4"
      },
      "outputs": [],
      "source": [
        "data['Age']"
      ],
      "id": "399b30f4"
    },
    {
      "cell_type": "code",
      "execution_count": null,
      "metadata": {
        "id": "7HNMifnB7SA3"
      },
      "outputs": [],
      "source": [
        "age_map={'13+':13,'18+':18,'7+':7,'All':0,'16':16}\n",
        "data[\"AgeCopy\"] = data[\"Age\"].map(age_map)\n",
        "data[\"AgeCopy\"]"
      ],
      "id": "7HNMifnB7SA3"
    },
    {
      "cell_type": "code",
      "execution_count": null,
      "metadata": {
        "id": "b0da930f"
      },
      "outputs": [],
      "source": [
        "data['Age'].unique()"
      ],
      "id": "b0da930f"
    },
    {
      "cell_type": "code",
      "execution_count": null,
      "metadata": {
        "id": "a128693e"
      },
      "outputs": [],
      "source": [
        "data[\"Age\"]"
      ],
      "id": "a128693e"
    },
    {
      "cell_type": "markdown",
      "metadata": {
        "id": "e100a09e"
      },
      "source": [
        "Let's Remove \"%\" sign attached to Rotten Tomatoes column"
      ],
      "id": "e100a09e"
    },
    {
      "cell_type": "code",
      "execution_count": null,
      "metadata": {
        "id": "a56a4ac4"
      },
      "outputs": [],
      "source": [
        "data[\"Rotten Tomatoes\"]=data[\"Rotten Tomatoes\"].str.replace('%','')"
      ],
      "id": "a56a4ac4"
    },
    {
      "cell_type": "code",
      "execution_count": null,
      "metadata": {
        "id": "b9ed0aea"
      },
      "outputs": [],
      "source": [
        "for i in data[\"Rotten Tomatoes\"]:\n",
        "    if i==str:\n",
        "        i.astype(int)\n",
        ""
      ],
      "id": "b9ed0aea"
    },
    {
      "cell_type": "code",
      "execution_count": null,
      "metadata": {
        "id": "60e55498"
      },
      "outputs": [],
      "source": [
        "data[\"Rotten Tomatoes\"]"
      ],
      "id": "60e55498"
    },
    {
      "cell_type": "markdown",
      "metadata": {
        "id": "65bcc83d"
      },
      "source": [
        "# Visualisations"
      ],
      "id": "65bcc83d"
    },
    {
      "cell_type": "markdown",
      "metadata": {
        "id": "1d54953f"
      },
      "source": [
        "1.What is the Nummber of Movies for each group?"
      ],
      "id": "1d54953f"
    },
    {
      "cell_type": "code",
      "execution_count": null,
      "metadata": {
        "id": "d1051fbd"
      },
      "outputs": [],
      "source": [
        "data[\"Age\"].value_counts()"
      ],
      "id": "d1051fbd"
    },
    {
      "cell_type": "markdown",
      "metadata": {
        "id": "5b2230b3"
      },
      "source": [
        "2.Top 10 Languages in Streaming Service"
      ],
      "id": "5b2230b3"
    },
    {
      "cell_type": "code",
      "execution_count": null,
      "metadata": {
        "id": "2c614446"
      },
      "outputs": [],
      "source": [
        "data.Language.value_counts()"
      ],
      "id": "2c614446"
    },
    {
      "cell_type": "code",
      "execution_count": null,
      "metadata": {
        "id": "195fa52d"
      },
      "outputs": [],
      "source": [
        "language=data.Language.value_counts().head(10)\n",
        "plt.figure(figsize=(10,10))\n",
        "plt.title('Top 10 Languages in Streaming Service')\n",
        "sns.barplot(x=language.index,y=language.values)"
      ],
      "id": "195fa52d"
    },
    {
      "cell_type": "code",
      "execution_count": null,
      "metadata": {
        "id": "668680b6",
        "scrolled": true
      },
      "outputs": [],
      "source": [
        "from IPython.display import HTML\n",
        "import plotly.express as px\n",
        "fig=px.pie(data,\n",
        "          values=language.values,\n",
        "          names=language.index,\n",
        "          title=\"Top 10 Languages in Streaming Service\")\n",
        "\n",
        "HTML(fig.to_html())"
      ],
      "id": "668680b6"
    },
    {
      "cell_type": "markdown",
      "metadata": {
        "id": "VtdVWNRmyR0m"
      },
      "source": [
        " **Number of Movies in specific age group in All services**"
      ],
      "id": "VtdVWNRmyR0m"
    },
    {
      "cell_type": "code",
      "execution_count": null,
      "metadata": {
        "id": "k522RyfhzJxx"
      },
      "outputs": [],
      "source": [
        "data[\"Age\"].value_counts()"
      ],
      "id": "k522RyfhzJxx"
    },
    {
      "cell_type": "code",
      "execution_count": null,
      "metadata": {
        "id": "ObfVx8AOyeuO"
      },
      "outputs": [],
      "source": [
        "from IPython.display import HTML\n",
        "import plotly.express as px\n",
        "\n",
        "\n",
        "fig= px.bar(data,\n",
        "            x=data[\"Age\"].value_counts().index,\n",
        "            y=data[\"Age\"].value_counts(),\n",
        "            title=\"Number of Movies in specific age group in All services\",\n",
        "            text=data[\"Age\"].value_counts(),\n",
        "            height=600)\n",
        "fig.update_traces(texttemplate=\"%{text:.2s}\",textposition=\"outside\")\n",
        "\n",
        "HTML(fig.to_html())"
      ],
      "id": "ObfVx8AOyeuO"
    },
    {
      "cell_type": "markdown",
      "metadata": {
        "id": "HCRLPBhA_Ybh"
      },
      "source": [
        "**Number of Movies in specific age group in Netflix**"
      ],
      "id": "HCRLPBhA_Ybh"
    },
    {
      "cell_type": "code",
      "execution_count": null,
      "metadata": {
        "id": "lyxltE9--BCO"
      },
      "outputs": [],
      "source": [
        "from IPython.display import HTML\n",
        "import plotly.express as px\n",
        "\n",
        "netflix_data=data[data[\"Netflix\"]==1]\n",
        "\n",
        "fig= px.bar(data,\n",
        "            x=netflix_data[\"Age\"].value_counts().index,\n",
        "            y=netflix_data[\"Age\"].value_counts(),\n",
        "            title=\"Number of Movies in specific age group in Netlix\",\n",
        "            text=netflix_data[\"Age\"].value_counts(),\n",
        "            height=600)\n",
        "fig.update_traces(texttemplate=\"%{text:.2s}\",textposition=\"outside\")\n",
        "\n",
        "HTML(fig.to_html())"
      ],
      "id": "lyxltE9--BCO"
    },
    {
      "cell_type": "markdown",
      "metadata": {
        "id": "K7wUEnLTARw6"
      },
      "source": [
        "**Number of Movies in specific age group in Amazon Prime Video**"
      ],
      "id": "K7wUEnLTARw6"
    },
    {
      "cell_type": "code",
      "execution_count": null,
      "metadata": {
        "id": "Sw5SZYDaAQU5"
      },
      "outputs": [],
      "source": [
        "from IPython.display import HTML\n",
        "import plotly.express as px\n",
        "\n",
        "prime_data=data[data[\"Prime Video\"]==1]\n",
        "\n",
        "fig= px.bar(data,\n",
        "            x=prime_data[\"Age\"].value_counts().index,\n",
        "            y=prime_data[\"Age\"].value_counts(),\n",
        "            title=\"Number of Movies in specific age group in Amazon Prime\",\n",
        "            text=prime_data[\"Age\"].value_counts(),\n",
        "            height=600)\n",
        "fig.update_traces(texttemplate=\"%{text:.2s}\",textposition=\"outside\")\n",
        "\n",
        "HTML(fig.to_html())"
      ],
      "id": "Sw5SZYDaAQU5"
    },
    {
      "cell_type": "markdown",
      "metadata": {
        "id": "CMRRzE7-Hhek"
      },
      "source": [
        "**Number of Movies in specific age group in Amazon Disney+**"
      ],
      "id": "CMRRzE7-Hhek"
    },
    {
      "cell_type": "code",
      "execution_count": null,
      "metadata": {
        "id": "a8IzZGVjHhI7"
      },
      "outputs": [],
      "source": [
        "from IPython.display import HTML\n",
        "import plotly.express as px\n",
        "\n",
        "Disney_data=data[data[\"Disney+\"]==1]\n",
        "\n",
        "fig= px.bar(data,\n",
        "            x=Disney_data[\"Age\"].value_counts().index,\n",
        "            y=Disney_data[\"Age\"].value_counts(),\n",
        "            title=\"Number of Movies in specific age group in Disney+\",\n",
        "            text=Disney_data[\"Age\"].value_counts(),\n",
        "            height=600)\n",
        "fig.update_traces(texttemplate=\"%{text:.2s}\",textposition=\"outside\")\n",
        "\n",
        "HTML(fig.to_html())"
      ],
      "id": "a8IzZGVjHhI7"
    },
    {
      "cell_type": "markdown",
      "metadata": {
        "id": "KFSuLVUCH-Lw"
      },
      "source": [
        "**Number of Movies in specific age group in Amazon Hulu**"
      ],
      "id": "KFSuLVUCH-Lw"
    },
    {
      "cell_type": "code",
      "execution_count": null,
      "metadata": {
        "id": "RDOc1LmMH3tJ"
      },
      "outputs": [],
      "source": [
        "from IPython.display import HTML\n",
        "import plotly.express as px\n",
        "\n",
        "Hulu_data=data[data[\"Hulu\"]==1]\n",
        "\n",
        "fig= px.bar(data,\n",
        "            x=Hulu_data[\"Age\"].value_counts().index,\n",
        "            y=Hulu_data[\"Age\"].value_counts(),\n",
        "            title=\"Number of Movies in specific age group in Hulu\",\n",
        "            text=Hulu_data[\"Age\"].value_counts(),\n",
        "            height=600)\n",
        "fig.update_traces(texttemplate=\"%{text:.2s}\",textposition=\"outside\")\n",
        "\n",
        "HTML(fig.to_html())"
      ],
      "id": "RDOc1LmMH3tJ"
    },
    {
      "cell_type": "markdown",
      "metadata": {
        "id": "FiSAyvOOIarR"
      },
      "source": [
        "**Rotten Tomatoes Score**:\n",
        "\n",
        "A Tomatometer score is calculated for a movie or TV show after it receives at least five reviews. When at least 60% of reviews for a movie or TV\n",
        "show are positive, a red tomato is displayed to indicate its Fresh status.\n",
        "Rotten Tomatoes gives films a score out of 100 based on the averaged reviews of professional film critics. If a film gets a rating of 60 or more it\n",
        "gets a 'fresh' red tomato on the site. Less than 60 and it gets a rotten tomato."
      ],
      "id": "FiSAyvOOIarR"
    },
    {
      "cell_type": "markdown",
      "metadata": {
        "id": "3qDF2ksiI28c"
      },
      "source": [
        "**Rotten Tomatoes Ratings For All Services**"
      ],
      "id": "3qDF2ksiI28c"
    },
    {
      "cell_type": "code",
      "execution_count": null,
      "metadata": {
        "id": "Xqm6VhKeIgFO"
      },
      "outputs": [],
      "source": [
        "from IPython.display import HTML\n",
        "import plotly.express as px\n",
        "Hulu_data=data [data [ 'Hulu']==1]\n",
        "fig= px.bar (data,\n",
        "x=data ['Rotten Tomatoes'].value_counts().index,\n",
        "y=data ['Rotten Tomatoes'].value_counts(),\n",
        "title=\"Overall Rotten Tomatoes Ratings\",\n",
        "text=data ['Rotten Tomatoes'].value_counts (),\n",
        "height=600)\n",
        "fig.update_traces (texttemplate='%{text:.2s}', textposition='outside')\n",
        "HTML (fig.to_html())"
      ],
      "id": "Xqm6VhKeIgFO"
    },
    {
      "cell_type": "markdown",
      "metadata": {
        "id": "0--44rKiLqAf"
      },
      "source": [
        "**Rotten Tomatoes Ratings For Each Services**"
      ],
      "id": "0--44rKiLqAf"
    },
    {
      "cell_type": "code",
      "execution_count": null,
      "metadata": {
        "id": "6alBM_6zLol6"
      },
      "outputs": [],
      "source": [
        "netflix_data [ 'Rotten Tomatoes' ].value_counts() [0]"
      ],
      "id": "6alBM_6zLol6"
    },
    {
      "cell_type": "code",
      "execution_count": null,
      "metadata": {
        "id": "k_fBjfeIL6Da"
      },
      "outputs": [],
      "source": [
        "rt_scores=pd. DataFrame({ 'Streaming Service': [ 'Prime Video', 'Hulu', 'Disney+', 'Netflix'],\n",
        "'Rotten Tomatoes Score': [ netflix_data [ 'Rotten Tomatoes' ].value_counts() [0],\n",
        "prime_data[ 'Rotten Tomatoes'].value_counts() [0],\n",
        "Disney_data [ 'Rotten Tomatoes' ].value_counts()[0],\n",
        "Hulu_data [ 'Rotten Tomatoes'].value_counts()[0]\n",
        "]})\n",
        "rt_scores.head()"
      ],
      "id": "k_fBjfeIL6Da"
    },
    {
      "cell_type": "code",
      "execution_count": null,
      "metadata": {
        "id": "MRosuivUMlek"
      },
      "outputs": [],
      "source": [
        "sort_rt_scores=rt_scores.sort_values(ascending=False,by=\"Rotten Tomatoes Score\")\n",
        "sort_rt_scores"
      ],
      "id": "MRosuivUMlek"
    },
    {
      "cell_type": "code",
      "execution_count": null,
      "metadata": {
        "id": "6npSG8HZM20U"
      },
      "outputs": [],
      "source": [
        "fig= px.bar (sort_rt_scores,\n",
        "x=sort_rt_scores ['Streaming Service'],\n",
        "y=sort_rt_scores ['Rotten Tomatoes Score'],\n",
        "title=\"Rotten Tomatoes Score For Each Service\",\n",
        "text=sort_rt_scores ['Rotten Tomatoes Score'],\n",
        "height=600)\n",
        "fig.update_traces(marker_color=\"red\",texttemplate='%{text:.2s}', textposition='outside')\n",
        "HTML (fig.to_html())"
      ],
      "id": "6npSG8HZM20U"
    },
    {
      "cell_type": "markdown",
      "source": [
        "### **IMDB** **Ratings**"
      ],
      "metadata": {
        "id": "nl5T_CqXmdXC"
      },
      "id": "nl5T_CqXmdXC"
    },
    {
      "cell_type": "code",
      "source": [
        "from IPython.display import HTML\n",
        "import plotly.express as px\n",
        "Hulu_data=data [data [ 'Hulu']==1]\n",
        "fig= px.bar (data,\n",
        "x=data ['IMDb'].value_counts().index,\n",
        "y=data ['IMDb'].value_counts(),\n",
        "title=\"Overall IMDb Ratings\",\n",
        "text=data ['IMDb'].value_counts (),\n",
        "height=600)\n",
        "fig.update_traces (texttemplate='%{text:.2s}', textposition='outside')\n",
        "HTML (fig.to_html())"
      ],
      "metadata": {
        "id": "RhVAnGgUlzpz"
      },
      "id": "RhVAnGgUlzpz",
      "execution_count": null,
      "outputs": []
    },
    {
      "cell_type": "markdown",
      "source": [
        "**Runtimes Of Movies**"
      ],
      "metadata": {
        "id": "_t34edGxooI-"
      },
      "id": "_t34edGxooI-"
    },
    {
      "cell_type": "code",
      "source": [
        "RuntimeCount=pd.DataFrame (dict(data [ 'Runtime'].value_counts().sort_values (ascending=False) [:10]).items (),\n",
        "columns=['Runtime', 'Count'])\n",
        "RuntimeCount"
      ],
      "metadata": {
        "id": "-di7H0bconQM"
      },
      "id": "-di7H0bconQM",
      "execution_count": null,
      "outputs": []
    },
    {
      "cell_type": "code",
      "source": [
        "fig= px.bar(data,\n",
        "x=RuntimeCount [ 'Runtime'],\n",
        "y=RuntimeCount [ 'Count'],\n",
        "title=\"Count Of Runtime Of Movies\",\n",
        "text=RuntimeCount [ 'Runtime'],\n",
        "height=600)\n",
        "fig.update_traces (texttemplate='%{text:.2s}', textposition='outside')\n",
        "HTML (fig.to_html())"
      ],
      "metadata": {
        "id": "l15oe7phpTpr"
      },
      "id": "l15oe7phpTpr",
      "execution_count": null,
      "outputs": []
    },
    {
      "cell_type": "markdown",
      "source": [
        "**Exploring** **Genres**"
      ],
      "metadata": {
        "id": "Bhi3UPnlW617"
      },
      "id": "Bhi3UPnlW617"
    },
    {
      "cell_type": "code",
      "source": [
        "genres_=dict (data [ 'Genres'].value_counts())"
      ],
      "metadata": {
        "id": "J4WLtpehXUP_"
      },
      "id": "J4WLtpehXUP_",
      "execution_count": null,
      "outputs": []
    },
    {
      "cell_type": "code",
      "source": [
        "genres_count = dict()\n",
        "for g, count in genres_.items():\n",
        "  g = g.split(\",\")\n",
        "  for i in g:\n",
        "    if i in genres_count.keys ():\n",
        "      genres_count[i] = genres_count.get(i) + 1\n",
        "    else:\n",
        "      genres_count[i] = 1"
      ],
      "metadata": {
        "id": "FwbABbjHTK1h"
      },
      "id": "FwbABbjHTK1h",
      "execution_count": null,
      "outputs": []
    },
    {
      "cell_type": "code",
      "source": [
        "genres_count"
      ],
      "metadata": {
        "id": "fwBxmeenXgUN"
      },
      "id": "fwBxmeenXgUN",
      "execution_count": null,
      "outputs": []
    },
    {
      "cell_type": "code",
      "source": [
        "count_genres_df=pd.DataFrame (genres_count.items (), columns=['Genre', 'Count'])\n",
        "count_genres_df=count_genres_df.sort_values (by='Count', ascending=False).head (20)\n",
        "count_genres_df"
      ],
      "metadata": {
        "id": "F1bUNIBvXiPQ"
      },
      "id": "F1bUNIBvXiPQ",
      "execution_count": null,
      "outputs": []
    },
    {
      "cell_type": "code",
      "source": [
        "fig = px.bar (count_genres_df,\n",
        "x=count_genres_df ['Genre'],\n",
        "y=count_genres_df ['Count'],\n",
        "title=\"Directors And Their Count Of Movies They Have Directed\",\n",
        "text=count_genres_df [ 'Count' ],\n",
        "height=600)\n",
        "fig.update_traces (marker_color='green', texttemplate='%{text: .2s}', textposition= 'outside')\n",
        "HTML (fig.to_html())"
      ],
      "metadata": {
        "id": "p9CipLXzX6tz"
      },
      "id": "p9CipLXzX6tz",
      "execution_count": null,
      "outputs": []
    },
    {
      "cell_type": "markdown",
      "source": [
        "**What are the top movies on each platform?**"
      ],
      "metadata": {
        "id": "4E7WITNoYS2U"
      },
      "id": "4E7WITNoYS2U"
    },
    {
      "cell_type": "markdown",
      "source": [
        "**On** **Netflix**"
      ],
      "metadata": {
        "id": "oJhtv1CSYkSB"
      },
      "id": "oJhtv1CSYkSB"
    },
    {
      "cell_type": "code",
      "source": [
        "data_netflix_top=netflix_data[netflix_data['IMDb']>8]\n",
        "data_netflix_top=data_netflix_top[['Title', 'IMDb']].sort_values (ascending=False, by='IMDb')\n",
        "data_netflix_top"
      ],
      "metadata": {
        "id": "FwWSNZaIYQup"
      },
      "id": "FwWSNZaIYQup",
      "execution_count": null,
      "outputs": []
    },
    {
      "cell_type": "code",
      "source": [
        "data_netflix_top.shape"
      ],
      "metadata": {
        "id": "bVEO1kyhZL7j"
      },
      "id": "bVEO1kyhZL7j",
      "execution_count": null,
      "outputs": []
    },
    {
      "cell_type": "code",
      "source": [
        "fig = px.bar (data_netflix_top,\n",
        "x=data_netflix_top ['Title'],\n",
        "y=data_netflix_top ['IMDb'],\n",
        "title=\"Top Movies on Netflix\",\n",
        "text=data_netflix_top [ 'IMDb' ],\n",
        "height=600)\n",
        "fig.update_traces (marker_color='brown', texttemplate='%{text: .2s}', textposition= 'outside')\n",
        "HTML (fig.to_html())"
      ],
      "metadata": {
        "id": "1FQqE5ivYz9K"
      },
      "id": "1FQqE5ivYz9K",
      "execution_count": null,
      "outputs": []
    },
    {
      "cell_type": "markdown",
      "source": [
        "**On Amazon Prime**"
      ],
      "metadata": {
        "id": "XAHiMNuVanBc"
      },
      "id": "XAHiMNuVanBc"
    },
    {
      "cell_type": "code",
      "source": [
        "amz_top=prime_data[prime_data['IMDb']>8]\n",
        "amz_top=amz_top[['Title', 'IMDb']].sort_values (ascending=False, by='IMDb')\n",
        "amz_top"
      ],
      "metadata": {
        "id": "zlx1u11eaOqa"
      },
      "id": "zlx1u11eaOqa",
      "execution_count": null,
      "outputs": []
    },
    {
      "cell_type": "code",
      "source": [
        "amz_top.shape"
      ],
      "metadata": {
        "id": "Hkpa2HzBZSSn"
      },
      "id": "Hkpa2HzBZSSn",
      "execution_count": null,
      "outputs": []
    },
    {
      "cell_type": "code",
      "source": [
        "fig = px.bar (amz_top,\n",
        "x=amz_top ['Title'],\n",
        "y=amz_top ['IMDb'],\n",
        "title=\"Top Movies on Prime\",\n",
        "text=amz_top [ 'IMDb' ],\n",
        "height=600)\n",
        "fig.update_traces (marker_color='yellow', texttemplate='%{text: .2s}', textposition= 'outside')\n",
        "HTML (fig.to_html())"
      ],
      "metadata": {
        "id": "fVYtJErDa9-I"
      },
      "id": "fVYtJErDa9-I",
      "execution_count": null,
      "outputs": []
    },
    {
      "cell_type": "markdown",
      "source": [
        "**On Hotsar**"
      ],
      "metadata": {
        "id": "cdhRKt-1belQ"
      },
      "id": "cdhRKt-1belQ"
    },
    {
      "cell_type": "code",
      "source": [
        "disney_top=Disney_data[Disney_data['IMDb']>8]\n",
        "disney_top=disney_top[['Title', 'IMDb']].sort_values (ascending=False, by='IMDb')\n",
        "disney_top"
      ],
      "metadata": {
        "id": "_WhrriA6atEU"
      },
      "id": "_WhrriA6atEU",
      "execution_count": null,
      "outputs": []
    },
    {
      "cell_type": "code",
      "source": [
        "disney_top.shape"
      ],
      "metadata": {
        "id": "3MmJnwQaZWzI"
      },
      "id": "3MmJnwQaZWzI",
      "execution_count": null,
      "outputs": []
    },
    {
      "cell_type": "code",
      "source": [
        "fig = px.bar (disney_top,\n",
        "x=disney_top ['Title'],\n",
        "y=disney_top ['IMDb'],\n",
        "title=\"Top Movies on Disney+\",\n",
        "text=disney_top [ 'IMDb' ],\n",
        "height=600)\n",
        "fig.update_traces (marker_color='yellow', texttemplate='%{text: .2s}', textposition= 'outside')\n",
        "HTML (fig.to_html())"
      ],
      "metadata": {
        "id": "8SZkJhy1bkBc"
      },
      "id": "8SZkJhy1bkBc",
      "execution_count": null,
      "outputs": []
    },
    {
      "cell_type": "markdown",
      "source": [
        "**On Hulu**"
      ],
      "metadata": {
        "id": "34Z9OacpYJCI"
      },
      "id": "34Z9OacpYJCI"
    },
    {
      "cell_type": "code",
      "source": [
        "Hulu_top=Hulu_data[Hulu_data['IMDb']>8]\n",
        "Hulu_top=Hulu_top[['Title', 'IMDb']].sort_values (ascending=False, by='IMDb')\n",
        "Hulu_top"
      ],
      "metadata": {
        "id": "H4c_zB9JatHy"
      },
      "id": "H4c_zB9JatHy",
      "execution_count": null,
      "outputs": []
    },
    {
      "cell_type": "code",
      "source": [
        "Hulu_top.shape"
      ],
      "metadata": {
        "id": "Wr6xPhpKZcJa"
      },
      "id": "Wr6xPhpKZcJa",
      "execution_count": null,
      "outputs": []
    },
    {
      "cell_type": "code",
      "source": [
        "fig = px.bar (Hulu_top,\n",
        "x=Hulu_top ['Title'],\n",
        "y=Hulu_top ['IMDb'],\n",
        "title=\"Top Movies on Hulu\",\n",
        "text=Hulu_top [ 'IMDb' ],\n",
        "height=600)\n",
        "fig.update_traces (marker_color='lightblue', texttemplate='%{text: .2s}', textposition= 'outside')\n",
        "HTML (fig.to_html())"
      ],
      "metadata": {
        "id": "9NXMfJRJYnqF"
      },
      "id": "9NXMfJRJYnqF",
      "execution_count": null,
      "outputs": []
    },
    {
      "cell_type": "markdown",
      "source": [
        "Best Streaming Service According to our analysis :"
      ],
      "metadata": {
        "id": "fkcC9cAfZlD9"
      },
      "id": "fkcC9cAfZlD9"
    },
    {
      "cell_type": "code",
      "source": [
        "#No.of Movies with more than 8.0 Rating in IMDB\n",
        "\n",
        "\n",
        "#Netflix = 128\n",
        "#Amazon = 324\n",
        "#Disney+ = 21\n",
        "#Hulu = 23\n",
        "\n",
        "#Since Amazon Has Highest Number of movies with higher rating. Amazon is the best streaming service"
      ],
      "metadata": {
        "id": "Q-CwJFCIY8lp"
      },
      "id": "Q-CwJFCIY8lp",
      "execution_count": null,
      "outputs": []
    }
  ],
  "metadata": {
    "colab": {
      "provenance": []
    },
    "kernelspec": {
      "display_name": "Python 3 (ipykernel)",
      "language": "python",
      "name": "python3"
    },
    "language_info": {
      "codemirror_mode": {
        "name": "ipython",
        "version": 3
      },
      "file_extension": ".py",
      "mimetype": "text/x-python",
      "name": "python",
      "nbconvert_exporter": "python",
      "pygments_lexer": "ipython3",
      "version": "3.9.12"
    }
  },
  "nbformat": 4,
  "nbformat_minor": 5
}
